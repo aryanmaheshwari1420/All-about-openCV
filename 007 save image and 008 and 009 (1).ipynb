{
 "cells": [
  {
   "cell_type": "markdown",
   "id": "598e4862",
   "metadata": {},
   "source": [
    "## How to save image or numpy array as image\n",
    "\n",
    "## How to conver video into images"
   ]
  },
  {
   "cell_type": "code",
   "execution_count": 1,
   "id": "d23c6ae5",
   "metadata": {},
   "outputs": [],
   "source": [
    "# import cv2\n",
    "# import numpy as np\n",
    "# import os"
   ]
  },
  {
   "cell_type": "code",
   "execution_count": 2,
   "id": "d5ec4463",
   "metadata": {},
   "outputs": [],
   "source": [
    "# rand_array = np.random.randint(255,size =  (300,600,3))\n",
    "# path = r\"D:\\unsplash cool pictures\"\n",
    "# print(path)\n",
    "# cv2.imwrite(os.path.join(path,\"rand_np_array.jpeg\"),rand_array) #imwrite(filename, img[, params])\n",
    "# img = cv2.imread(r\"D:\\unsplash cool pictures\\rand_np_array.jpeg\")\n",
    "# print(img)\n",
    "# cv2.imshow(\"image\", img)\n",
    "\n",
    "# cv2.waitKey()\n",
    "# cv2.destroyAllWindows()"
   ]
  },
  {
   "cell_type": "markdown",
   "id": "9387ae89",
   "metadata": {},
   "source": [
    "## Save Image"
   ]
  },
  {
   "cell_type": "code",
   "execution_count": 3,
   "id": "8486de42",
   "metadata": {},
   "outputs": [],
   "source": [
    "# img_path = r\"D:\\unsplash cool pictures\\tarn-nguyen-XlEafYGDvV0-unsplash.jpg\"\n",
    "\n",
    "# img = cv2.imread(img_path)\n",
    "# cv2.imshow(\"image\", img)\n",
    "# cv2.imwrite(\"A_New_image.png\",img)\n",
    "# cv2.waitKey()\n",
    "# cv2.destroyAllWindows()"
   ]
  },
  {
   "cell_type": "code",
   "execution_count": null,
   "id": "e519999b",
   "metadata": {},
   "outputs": [],
   "source": []
  },
  {
   "cell_type": "markdown",
   "id": "41127b66",
   "metadata": {},
   "source": [
    "## Save Images from video"
   ]
  },
  {
   "cell_type": "code",
   "execution_count": 4,
   "id": "889f1e7f",
   "metadata": {},
   "outputs": [],
   "source": [
    "# video_path = r\"D:\\phone videos\\VID20210329182825.mp4\"\n",
    "\n",
    "# os.mkdir(\"video_to_image\") # create_directory\n",
    "# cap = cv2.VideoCapture(video_path) # \n",
    "\n",
    "# img_count = 1\n",
    "# while cap.isOpened():\n",
    "#     ret, frame = cap.read()\n",
    "#     if not ret:\n",
    "#         print(\"unable to read frame\")\n",
    "#         break\n",
    "        \n",
    "#     is_img_write = cv2.imwrite(f\"video_to_image\\image(img_count).jpeg\",frame)        \n",
    "      \n",
    "#     if is_img_write:\n",
    "#         print(f\"image save at video_to_image\\image{img_count}.jpeg\")\n",
    "        \n",
    "#     cv2.imshow(\"video\",frame)\n",
    "    \n",
    "#     cv2.waitKey(25) & 0xff == ord('q')\n",
    "#     img_count +=1 \n",
    "    \n",
    "# cap.release()\n",
    "# cv2.destroyAllWindows()"
   ]
  },
  {
   "cell_type": "code",
   "execution_count": null,
   "id": "4c9389a7",
   "metadata": {},
   "outputs": [],
   "source": []
  },
  {
   "cell_type": "markdown",
   "id": "ae49411c",
   "metadata": {},
   "source": [
    "## Create Video from numpy array and images"
   ]
  },
  {
   "cell_type": "markdown",
   "id": "b0794ccc",
   "metadata": {},
   "source": [
    "## Video from numpy array\n"
   ]
  },
  {
   "cell_type": "code",
   "execution_count": 5,
   "id": "870ec7a0",
   "metadata": {},
   "outputs": [],
   "source": [
    "import numpy as np\n",
    "import cv2\n",
    "import os\n"
   ]
  },
  {
   "cell_type": "code",
   "execution_count": 6,
   "id": "eb973571",
   "metadata": {},
   "outputs": [],
   "source": [
    "# width = 1280\n",
    "# height = 720\n",
    "# channel = 3\n",
    "\n",
    "# fps = 30\n",
    "# sec = 5\n",
    "\n",
    "\n",
    "# fourcc  = cv2.VideoWriter_fourcc(*'MP42') # four code fourcc.org\n",
    "\n",
    "# video = cv2.VideoWriter('test.mp4',fourcc,float(fps),(width,height))\n",
    "\n",
    "# for frame_count in range(fps*sec):\n",
    "#     img= np.random.randint(0,255,(height,width,channel),dtype = np.uint8)\n",
    "#     video.write(img)\n",
    "    \n",
    "# video.release()    \n",
    "    "
   ]
  },
  {
   "cell_type": "code",
   "execution_count": null,
   "id": "27860c67",
   "metadata": {},
   "outputs": [],
   "source": []
  },
  {
   "cell_type": "markdown",
   "id": "bc30045f",
   "metadata": {},
   "source": [
    "## Video from Images"
   ]
  },
  {
   "cell_type": "code",
   "execution_count": 7,
   "id": "23ab2445",
   "metadata": {},
   "outputs": [],
   "source": [
    "width = 1280\n",
    "height = 720\n",
    "channel = 3\n",
    "\n",
    "fps = 30\n",
    "sec = 30\n",
    "\n",
    "\n",
    "fourcc  = cv2.VideoWriter_fourcc(*'MP42') # four code fourcc.org\n",
    "\n",
    "video = cv2.VideoWriter('test.mp4',fourcc,float(fps),(width,height))\n",
    "\n",
    "# for frame_count in range(fps*sec):\n",
    "#     img= np.random.randint(0,255,(height,width,channel),dtype = np.uint8)\n",
    "#     video.write(img)\n",
    "\n",
    "\n",
    "directory = r\"D:\\unsplash cool pictures\"\n",
    "\n",
    "img_name_list = os.listdir(directory)\n",
    "\n",
    "\n",
    "for frame_count in range(fps*sec):\n",
    "    img_name = np.random.choice(img_name_list)\n",
    "    img_path = os.path.join(directory,img_name)\n",
    "    img = cv2.imread(img_path)\n",
    "    img_resize =cv2.resize(img,(width,height))\n",
    "    \n",
    "    video.write(img_resize)\n",
    "    \n",
    "    \n",
    "video.release()    \n",
    "    "
   ]
  },
  {
   "cell_type": "code",
   "execution_count": null,
   "id": "09ad5131",
   "metadata": {},
   "outputs": [],
   "source": []
  },
  {
   "cell_type": "code",
   "execution_count": null,
   "id": "351e5b31",
   "metadata": {},
   "outputs": [],
   "source": []
  }
 ],
 "metadata": {
  "kernelspec": {
   "display_name": "Python 3",
   "language": "python",
   "name": "python3"
  },
  "language_info": {
   "codemirror_mode": {
    "name": "ipython",
    "version": 3
   },
   "file_extension": ".py",
   "mimetype": "text/x-python",
   "name": "python",
   "nbconvert_exporter": "python",
   "pygments_lexer": "ipython3",
   "version": "3.8.8"
  }
 },
 "nbformat": 4,
 "nbformat_minor": 5
}
