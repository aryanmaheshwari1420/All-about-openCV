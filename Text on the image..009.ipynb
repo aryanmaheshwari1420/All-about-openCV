{
 "cells": [
  {
   "cell_type": "code",
   "execution_count": 1,
   "id": "862235c7",
   "metadata": {},
   "outputs": [],
   "source": [
    "import cv2\n",
    "import os\n",
    "import numpy as np\n"
   ]
  },
  {
   "cell_type": "code",
   "execution_count": 2,
   "id": "ea1a44b3",
   "metadata": {},
   "outputs": [],
   "source": [
    "# img_path = r\"D:\\unsplash cool pictures\\daniel-korpai-8GDCzWrcE3M-unsplash.jpg\"\n",
    " \n",
    "# image = cv2.imread(img_path)\n",
    "# image = cv2.resize(image, (1280, 720))\n",
    " \n",
    "# text = \"hello ji keso ho saare\"\n",
    "# org = (100, 200)\n",
    "# font = cv2.FONT_HERSHEY_COMPLEX\n",
    "# fontScale = 2\n",
    "# color = (0,0,255)  #(B, G, R)\n",
    "# thickness = 3\n",
    "# lineType = cv2.LINE_AA\n",
    "# bottomLeftOrigin = False # if it is true then it will ulta the text\n",
    " \n",
    "# # Syntax>> cv2.putText(image, text, org, font, fontScale, color[, thickness[, lineType[, bottomLeftOrigin]]])\n",
    " \n",
    "# img_text = cv2.putText(image, text, org, font, fontScale, color, thickness, lineType, bottomLeftOrigin)\n",
    " \n",
    "# cv2.imshow(\"Text Image\", img_text)\n",
    " \n",
    "# cv2.waitKey(0)\n",
    "# cv2.destroyAllWindows()"
   ]
  },
  {
   "cell_type": "code",
   "execution_count": 3,
   "id": "61d7a8af",
   "metadata": {},
   "outputs": [],
   "source": [
    "# import cv2\n",
    "# import numpy as np\n",
    " \n",
    "# img_path = r\"D:\\unsplash cool pictures\\daniel-korpai-8GDCzWrcE3M-unsplash.jpg\"\n",
    " \n",
    "# image = cv2.imread(img_path)\n",
    " \n",
    "# image = cv2.resize(image, (1280, 720))\n",
    " \n",
    "# text = \"hello ji kese ho\"\n",
    "# org = (100, 200)\n",
    "# font = cv2.FONT_HERSHEY_COMPLEX\n",
    "# fontScale = 6\n",
    " \n",
    "# color = (0,0,255)  #(B, G, R)\n",
    "# thickness = 3\n",
    "# lineType = cv2.LINE_AA\n",
    "# bottomLeftOrigin = True\n",
    " \n",
    "# # cv2.putText(image, text, org, font, fontScale, color[, thickness[, lineType[, bottomLeftOrigin]]])\n",
    "# img_text = cv2.putText(image, text, org, font, fontScale, color, thickness, lineType, bottomLeftOrigin)\n",
    " \n",
    "# img_text = cv2.putText(image, text, org, font, fontScale, color, thickness, lineType, bottomLeftOrigin=False)\n",
    " \n",
    "# cv2.imshow(\"Text Image\", img_text)\n",
    " \n",
    "# cv2.waitKey(0)\n",
    "# cv2.destroyAllWindows()"
   ]
  },
  {
   "cell_type": "code",
   "execution_count": null,
   "id": "aed9e1bd",
   "metadata": {},
   "outputs": [],
   "source": [
    "import cv2\n",
    "import numpy as np\n",
    " \n",
    "img_path = r\"D:\\unsplash cool pictures\\daniel-korpai-8GDCzWrcE3M-unsplash.jpg\"\n",
    " \n",
    "image = cv2.imread(img_path)\n",
    " \n",
    "image = cv2.resize(image, (1280, 720))\n",
    " \n",
    "text = \"Indian AI Production\"\n",
    "org = (50, 100)\n",
    "font = cv2.FONT_HERSHEY_COMPLEX_SMALL\n",
    "fontScale = 4\n",
    " \n",
    "color = (87,67,23)  #(B, G, R)\n",
    "thickness = 3\n",
    "lineType = cv2.LINE_AA\n",
    "bottomLeftOrigin = True\n",
    " \n",
    "# cv2.putText(image, text, org, font, fontScale, color[, thickness[, lineType[, bottomLeftOrigin]]])\n",
    "img_text = cv2.putText(image, text, org, font, fontScale, color, thickness, lineType, bottomLeftOrigin)\n",
    " \n",
    "img_text = cv2.putText(image, text, org, font, fontScale, color, thickness, lineType, bottomLeftOrigin=False)\n",
    " \n",
    "cv2.imshow(\"Text Image\", img_text)\n",
    " \n",
    "cv2.waitKey(0)\n",
    "cv2.destroyAllWindows()"
   ]
  },
  {
   "cell_type": "markdown",
   "id": "7414b19c",
   "metadata": {},
   "source": [
    "## font style\n"
   ]
  },
  {
   "cell_type": "code",
   "execution_count": null,
   "id": "7f441fe2",
   "metadata": {},
   "outputs": [],
   "source": [
    "# //! Only a subset of Hershey fonts\n",
    "# enum HersheyFonts {\n",
    "#     FONT_HERSHEY_SIMPLEX        = 0, //!< normal size sans-serif font\n",
    "#     FONT_HERSHEY_PLAIN          = 1, //!< small size sans-serif font\n",
    "#     FONT_HERSHEY_DUPLEX         = 2, //!< normal size sans-serif font (more complex than FONT_HERSHEY_SIMPLEX)\n",
    "#     FONT_HERSHEY_COMPLEX        = 3, //!< normal size serif font\n",
    "#     FONT_HERSHEY_TRIPLEX        = 4, //!< normal size serif font (more complex than FONT_HERSHEY_COMPLEX)\n",
    "#     FONT_HERSHEY_COMPLEX_SMALL  = 5, //!< smaller version of FONT_HERSHEY_COMPLEX\n",
    "#     FONT_HERSHEY_SCRIPT_SIMPLEX = 6, //!< hand-writing style font\n",
    "#     FONT_HERSHEY_SCRIPT_COMPLEX = 7, //!< more complex variant of FONT_HERSHEY_SCRIPT_SIMPLEX\n",
    "#     FONT_ITALIC                 = 16 //!< flag for italic font\n",
    "# };"
   ]
  },
  {
   "cell_type": "markdown",
   "id": "b300cd3a",
   "metadata": {},
   "source": [
    "## line style"
   ]
  },
  {
   "cell_type": "code",
   "execution_count": null,
   "id": "f9850d2c",
   "metadata": {},
   "outputs": [],
   "source": [
    "# cv::LineTypes {\n",
    "#   cv::FILLED = -1,\n",
    "#   cv::LINE_4 = 4,\n",
    "#   cv::LINE_8 = 8,\n",
    "#   cv::LINE_AA = 16"
   ]
  },
  {
   "cell_type": "code",
   "execution_count": null,
   "id": "bf31f762",
   "metadata": {},
   "outputs": [],
   "source": []
  },
  {
   "cell_type": "code",
   "execution_count": null,
   "id": "a4a02c17",
   "metadata": {},
   "outputs": [],
   "source": [
    "\n"
   ]
  }
 ],
 "metadata": {
  "kernelspec": {
   "display_name": "Python 3",
   "language": "python",
   "name": "python3"
  },
  "language_info": {
   "codemirror_mode": {
    "name": "ipython",
    "version": 3
   },
   "file_extension": ".py",
   "mimetype": "text/x-python",
   "name": "python",
   "nbconvert_exporter": "python",
   "pygments_lexer": "ipython3",
   "version": "3.8.8"
  }
 },
 "nbformat": 4,
 "nbformat_minor": 5
}
