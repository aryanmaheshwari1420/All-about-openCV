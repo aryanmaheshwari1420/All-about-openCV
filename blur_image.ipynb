{
 "cells": [
  {
   "cell_type": "markdown",
   "id": "64f7c1eb",
   "metadata": {},
   "source": [
    "## blur the image\n"
   ]
  },
  {
   "cell_type": "code",
   "execution_count": 1,
   "id": "46a2c8c9",
   "metadata": {},
   "outputs": [],
   "source": [
    "#### OpenCV Video Tutorial Playlist: https://www.youtube.com/watch?v=-rm0P7A4Jbc&list=PLfP3JxW-T70G5FB9vcmT6T3xnmvFvqV7w ####\n",
    " \n",
    "# Show Image\n",
    "import cv2\n",
    "import numpy as np\n",
    " \n",
    "\n",
    "path =r\"\"\"D:\\unsplash cool pictures\"\"\"\n",
    "image_name = \"daniel-korpai-8GDCzWrcE3M-unsplash.jpg\"\n",
    "\n",
    "img = cv2.imread(path + '\\\\' + image_name)\n",
    " \n",
    "\n",
    "img = cv2.resize(img, (1280, 720))\n",
    " \n",
    "cv2.imshow(\"daniel-korpai-8GDCzWrcE3M-unsplash.jpg\", img)\n",
    " \n",
    "cv2.waitKey(0)\n",
    "cv2.destroyAllWindows()\n",
    "\n"
   ]
  },
  {
   "cell_type": "code",
   "execution_count": 2,
   "id": "9a932393",
   "metadata": {},
   "outputs": [],
   "source": [
    "# Blur Image using Filter2D with 5×5 kernel\n",
    "one_mat_3_3 = np.ones((3,3), dtype=np.float32)/9\n",
    "blur_img_3_3 = cv2.filter2D(img, -1, one_mat_3_3)\n",
    " \n",
    " \n",
    "cv2.imshow(\"Blure image 3x3\", blur_img_3_3)\n",
    "cv2.imshow(\"Original Image\", img)\n",
    " \n",
    "cv2.waitKey(0)\n",
    "cv2.destroyAllWindows()"
   ]
  },
  {
   "cell_type": "code",
   "execution_count": 3,
   "id": "92cd625b",
   "metadata": {},
   "outputs": [
    {
     "ename": "SyntaxError",
     "evalue": "invalid syntax (<ipython-input-3-0bb5ae40690f>, line 11)",
     "output_type": "error",
     "traceback": [
      "\u001b[1;36m  File \u001b[1;32m\"<ipython-input-3-0bb5ae40690f>\"\u001b[1;36m, line \u001b[1;32m11\u001b[0m\n\u001b[1;33m    Blur Image using Fil\u001b[0m\n\u001b[1;37m         ^\u001b[0m\n\u001b[1;31mSyntaxError\u001b[0m\u001b[1;31m:\u001b[0m invalid syntax\n"
     ]
    }
   ],
   "source": [
    "#Blur Image using Filter2D with 10×10 kernel\n",
    "one_mat_5_5 = np.ones((5,5), dtype=np.float32)/25\n",
    "blur_img_5_5 = cv2.filter2D(img, -1, one_mat_5_5)\n",
    " \n",
    " \n",
    "cv2.imshow(\"Blure image 5x5\", blur_img_5_5)\n",
    "cv2.imshow(\"Original Image\", img)\n",
    " \n",
    "cv2.waitKey(0)\n",
    "cv2.destroyAllWindows()\n",
    "Blur Image using Fil"
   ]
  },
  {
   "cell_type": "code",
   "execution_count": null,
   "id": "4773e316",
   "metadata": {},
   "outputs": [],
   "source": [
    "#Blur Image using Filter2D with 50×50 kernel\n",
    "# 50*50\n",
    "one_mat_50_50 = np.ones((50,50), dtype=np.float32)/2500\n",
    " \n",
    "blur_img_50_50 = cv2.filter2D(img, -1, one_mat_50_50)\n",
    " \n",
    "cv2.imshow(\"Original Image\", img)\n",
    "cv2.imshow(\"Blure Image using\", blur_img_50_50)\n",
    " \n",
    "cv2.waitKey(0)\n",
    "cv2.destroyAllWindows()"
   ]
  },
  {
   "cell_type": "code",
   "execution_count": null,
   "id": "c1317c13",
   "metadata": {},
   "outputs": [],
   "source": [
    "#Blur Image using Filter2D with 100×100 kernel\n",
    "# 100*100\n",
    "one_mat_100_100 = np.ones((100,100), dtype=np.float32)/10000\n",
    " \n",
    "blur_img_100_100 = cv2.filter2D(img, -1, one_mat_100_100)\n",
    " \n",
    "cv2.imshow(\"Original Image\", img)\n",
    "cv2.imshow(\"Blure Image using\", blur_img_100_100)\n",
    " \n",
    "cv2.waitKey(0)\n",
    "cv2.destroyAllWindows()"
   ]
  },
  {
   "cell_type": "code",
   "execution_count": null,
   "id": "57a70062",
   "metadata": {},
   "outputs": [],
   "source": [
    "## Show All image Result in Single Windows(Image)\n",
    " \n",
    "img = cv2.resize(img, (400, 350))\n",
    "blur_img_3_3 = cv2.resize(blur_img_3_3, (400, 350))\n",
    "blur_img_5_5 = cv2.resize(blur_img_5_5, (400, 350))\n",
    "blur_img_10_10 = cv2.resize(blur_img_10_10, (400, 350))\n",
    "blur_img_50_50 = cv2.resize(blur_img_50_50, (400, 350))\n",
    "blur_img_100_100 = cv2.resize(blur_img_100_100, (400, 350))\n",
    " \n",
    "cv2.putText(img, \"Original\", org=(20,40), fontFace=cv2.FONT_HERSHEY_PLAIN, fontScale= 2 , color=(0,0,255))\n",
    "cv2.putText(blur_img_3_3, \"3x3 Filter\", org=(20,40), fontFace=cv2.FONT_HERSHEY_PLAIN, fontScale= 2 , color=(255,0,255))\n",
    "cv2.putText(blur_img_5_5, \"5x5 Filter\", org=(20,40), fontFace=cv2.FONT_HERSHEY_PLAIN, fontScale= 2 , color=(255,0,255))\n",
    "cv2.putText(blur_img_10_10, \"10x10 Filter\", org=(20,40), fontFace=cv2.FONT_HERSHEY_PLAIN, fontScale= 2 , color=(255,0,255))\n",
    "cv2.putText(blur_img_50_50, \"50x50 Filter\", org=(20,40), fontFace=cv2.FONT_HERSHEY_PLAIN, fontScale= 2 , color=(255,0,255))\n",
    "cv2.putText(blur_img_100_100, \"100x100 Filter\", org=(20,40), fontFace=cv2.FONT_HERSHEY_PLAIN, fontScale= 2 , color=(255,0,255))\n",
    " \n",
    "img1_3 = np.hstack((img, blur_img_3_3, blur_img_5_5))\n",
    "img2_3 = np.hstack((blur_img_10_10, blur_img_50_50,blur_img_100_100))\n",
    " \n",
    "img3_6 = np.vstack((img1_3,img2_3))\n",
    " \n",
    "cv2.imshow(\"1 original and 5 Blur Image\", img3_6)\n",
    "cv2.waitKey(0)\n",
    "cv2.destroyAllWindows()"
   ]
  }
 ],
 "metadata": {
  "kernelspec": {
   "display_name": "Python 3",
   "language": "python",
   "name": "python3"
  },
  "language_info": {
   "codemirror_mode": {
    "name": "ipython",
    "version": 3
   },
   "file_extension": ".py",
   "mimetype": "text/x-python",
   "name": "python",
   "nbconvert_exporter": "python",
   "pygments_lexer": "ipython3",
   "version": "3.8.8"
  }
 },
 "nbformat": 4,
 "nbformat_minor": 5
}
