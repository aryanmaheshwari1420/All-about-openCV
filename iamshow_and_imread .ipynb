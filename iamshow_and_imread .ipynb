{
 "cells": [
  {
   "cell_type": "markdown",
   "id": "f78a4f69",
   "metadata": {},
   "source": [
    "## Read image using opencv "
   ]
  },
  {
   "cell_type": "markdown",
   "id": "d682897b",
   "metadata": {},
   "source": [
    "## syntax: cv2.imread(path,flag)\n",
    "\n",
    "##parameters:\n",
    "path: imagepath\n",
    "flag : default value is cv2.IMREAD_COLOR\n",
    "\n",
    "cv2.IMREAD_COLOR OR 1:\n",
    "reads the image with RGB colors\n",
    "\n",
    "cv2.IMREAD_GRAYSCALE OR 0;\n",
    "reads the image with gray colors\n",
    "\n",
    "cv2.IMREAD_UNCHANGED OR -1:\n",
    "it reads the imag as is from the source. if the image is an RGBmit loads the image into array with red,green and blue channels, if th source image is ARGB, it loads the image with three color components along with the alpha or transparency channel\n"
   ]
  },
  {
   "cell_type": "code",
   "execution_count": 1,
   "id": "11f0a5c7",
   "metadata": {},
   "outputs": [],
   "source": [
    "import cv2"
   ]
  },
  {
   "cell_type": "code",
   "execution_count": 2,
   "id": "32ec6c8f",
   "metadata": {},
   "outputs": [],
   "source": [
    "# path = r\"D:\\unsplash cool pictures\\tarn-nguyen-XlEafYGDvV0-unsplash.jpg\"\n",
    "\n",
    "# img = cv2.imread(path,1)\n",
    "# # print(img)\n",
    "# img.shape\n",
    "# img = cv2.resize(img,(500,400))\n",
    "# cv2.imshow(\"image\",img)\n",
    "# cv2.waitKey(0)\n",
    "\n",
    "# cv2.destroyAllWindows()"
   ]
  },
  {
   "cell_type": "code",
   "execution_count": 3,
   "id": "f19d0df8",
   "metadata": {},
   "outputs": [],
   "source": [
    "# # to show black and white images on the screen\n",
    "# path = r\"D:\\unsplash cool pictures\\tarn-nguyen-XlEafYGDvV0-unsplash.jpg\"\n",
    "\n",
    "# img = cv2.imread(path,0)\n",
    "# # print(img)\n",
    "# img.shape\n",
    "# img = cv2.resize(img,(500,400))\n",
    "# cv2.imshow(\"image\",img)\n",
    "# cv2.waitKey(0)\n",
    "\n",
    "# cv2.destroyAllWindows()"
   ]
  },
  {
   "cell_type": "markdown",
   "id": "68453cc7",
   "metadata": {},
   "source": [
    "## cv2.imshow"
   ]
  },
  {
   "cell_type": "markdown",
   "id": "6fdedcfa",
   "metadata": {},
   "source": [
    "syntax :cv2.imshow(window,ndarray\n",
    "This function help to show image or numpy array in the form of image"
   ]
  },
  {
   "cell_type": "code",
   "execution_count": 4,
   "id": "05c50d8b",
   "metadata": {},
   "outputs": [],
   "source": [
    "import cv2\n",
    "import numpy as np"
   ]
  },
  {
   "cell_type": "code",
   "execution_count": 5,
   "id": "ff00a34d",
   "metadata": {},
   "outputs": [
    {
     "data": {
      "text/plain": [
       "array([[0., 0., 0., ..., 0., 0., 0.],\n",
       "       [0., 0., 0., ..., 0., 0., 0.],\n",
       "       [0., 0., 0., ..., 0., 0., 0.],\n",
       "       ...,\n",
       "       [0., 0., 0., ..., 0., 0., 0.],\n",
       "       [0., 0., 0., ..., 0., 0., 0.],\n",
       "       [0., 0., 0., ..., 0., 0., 0.]])"
      ]
     },
     "execution_count": 5,
     "metadata": {},
     "output_type": "execute_result"
    }
   ],
   "source": [
    "matrix = np.zeros((200,200))\n",
    "matrix"
   ]
  },
  {
   "cell_type": "code",
   "execution_count": null,
   "id": "6d7f4385",
   "metadata": {},
   "outputs": [],
   "source": [
    "cv2.imshow(\"Zeros matrix\",matrix)\n",
    "cv2.waitKey(0)\n",
    "\n",
    "cv2.destroyAllWindows() "
   ]
  },
  {
   "cell_type": "code",
   "execution_count": null,
   "id": "f67ffe7e",
   "metadata": {},
   "outputs": [],
   "source": [
    "img_path = r\"D:\\unsplash cool pictures\\tarn-nguyen-XlEafYGDvV0-unsplash.jpg\"\n",
    "img = cv2.imread(img_path)\n",
    "\n",
    "cv2.imshow(\"Model Image\",img) #if we use this multipe times then it show only 1 window \n",
    "\n",
    "cv2.imshow(\"Model Image 1 \",img)# it will show multiple windows\n",
    "\n",
    "cv2.imshow(\"Model Image 2 \",img) # multiple windows\n",
    "cv2.waitKey(0)\n",
    "cv2.destroyAllWindows() "
   ]
  },
  {
   "cell_type": "code",
   "execution_count": null,
   "id": "ea380c97",
   "metadata": {},
   "outputs": [],
   "source": []
  },
  {
   "cell_type": "code",
   "execution_count": null,
   "id": "6b714692",
   "metadata": {},
   "outputs": [],
   "source": []
  },
  {
   "cell_type": "code",
   "execution_count": null,
   "id": "2e2265be",
   "metadata": {},
   "outputs": [],
   "source": []
  }
 ],
 "metadata": {
  "kernelspec": {
   "display_name": "Python 3",
   "language": "python",
   "name": "python3"
  },
  "language_info": {
   "codemirror_mode": {
    "name": "ipython",
    "version": 3
   },
   "file_extension": ".py",
   "mimetype": "text/x-python",
   "name": "python",
   "nbconvert_exporter": "python",
   "pygments_lexer": "ipython3",
   "version": "3.8.8"
  }
 },
 "nbformat": 4,
 "nbformat_minor": 5
}
