{
 "cells": [
  {
   "cell_type": "code",
   "execution_count": 1,
   "id": "e9a442a3",
   "metadata": {},
   "outputs": [],
   "source": [
    "import numpy as np\n",
    "import cv2\n"
   ]
  },
  {
   "cell_type": "code",
   "execution_count": 2,
   "id": "4ed1ade1",
   "metadata": {},
   "outputs": [],
   "source": [
    "video_path_1 = r\"D:\\phone videos\\VID20210329182825.mp4\"\n",
    "video_path_2 = \"rD:\\phone videos\\VID20210330122344.mp4\"\n"
   ]
  },
  {
   "cell_type": "code",
   "execution_count": 3,
   "id": "db845203",
   "metadata": {},
   "outputs": [],
   "source": [
    "# cap = cv2.VideoCapture(video_path) # if we put o in place of video_path then laptop camera will start\n",
    "\n",
    "# while cap.isOpened():\n",
    "#     ret, frame = cap.read()\n",
    "#     if ret:\n",
    "#         image = cv2.resize(frame,(600,400))\n",
    "#         cv2.imshow(\"Video Player\",image)\n",
    "        \n",
    "#         if cv2.waitKey(25) & 0xff == ord('q'):\n",
    "#             break\n",
    "#     else:\n",
    "#         break\n",
    "# cap.release()\n",
    "# cv2.destroyAllWindows()"
   ]
  },
  {
   "cell_type": "code",
   "execution_count": 4,
   "id": "889cb3e9",
   "metadata": {},
   "outputs": [],
   "source": [
    "# # In this we have show video in 4 frame in single window\n",
    "# cap = cv2.VideoCapture(video_path)\n",
    "\n",
    "# while cap.isOpened():\n",
    "#     ret, frame = cap.read()\n",
    "#     if ret:\n",
    "#         frame  = cv2.resize(frame,(600,400))\n",
    "#         frame_2 = np.hstack((frame,frame))\n",
    "#         frame_4 = np.vstack((frame_2,frame_2))\n",
    "        \n",
    "#         cv2.imshow(\"Video Player\",frame_4)\n",
    "        \n",
    "#         if cv2.waitKey(25) & 0xff ==ord('q'):\n",
    "#             break\n",
    "#     else:\n",
    "#         break\n",
    "# cap.release()\n",
    "# cv2.destroyAllWindows()"
   ]
  },
  {
   "cell_type": "code",
   "execution_count": 5,
   "id": "6b55789a",
   "metadata": {},
   "outputs": [
    {
     "ename": "error",
     "evalue": "OpenCV(4.0.1) C:\\ci\\opencv-suite_1573470242804\\work\\modules\\imgproc\\src\\resize.cpp:3784: error: (-215:Assertion failed) !ssize.empty() in function 'cv::resize'\n",
     "output_type": "error",
     "traceback": [
      "\u001b[1;31m---------------------------------------------------------------------------\u001b[0m",
      "\u001b[1;31merror\u001b[0m                                     Traceback (most recent call last)",
      "\u001b[1;32m<ipython-input-5-da50ae685771>\u001b[0m in \u001b[0;36m<module>\u001b[1;34m\u001b[0m\n\u001b[0;32m     13\u001b[0m     \u001b[1;32mif\u001b[0m \u001b[0mret1\u001b[0m\u001b[1;33m:\u001b[0m\u001b[1;33m\u001b[0m\u001b[1;33m\u001b[0m\u001b[0m\n\u001b[0;32m     14\u001b[0m         \u001b[0mframe1\u001b[0m  \u001b[1;33m=\u001b[0m \u001b[0mcv2\u001b[0m\u001b[1;33m.\u001b[0m\u001b[0mresize\u001b[0m\u001b[1;33m(\u001b[0m\u001b[0mframe1\u001b[0m\u001b[1;33m,\u001b[0m\u001b[1;33m(\u001b[0m\u001b[1;36m600\u001b[0m\u001b[1;33m,\u001b[0m\u001b[1;36m400\u001b[0m\u001b[1;33m)\u001b[0m\u001b[1;33m)\u001b[0m\u001b[1;33m\u001b[0m\u001b[1;33m\u001b[0m\u001b[0m\n\u001b[1;32m---> 15\u001b[1;33m         \u001b[0mframe2\u001b[0m  \u001b[1;33m=\u001b[0m \u001b[0mcv2\u001b[0m\u001b[1;33m.\u001b[0m\u001b[0mresize\u001b[0m\u001b[1;33m(\u001b[0m\u001b[0mframe2\u001b[0m\u001b[1;33m,\u001b[0m\u001b[1;33m(\u001b[0m\u001b[1;36m600\u001b[0m\u001b[1;33m,\u001b[0m\u001b[1;36m400\u001b[0m\u001b[1;33m)\u001b[0m\u001b[1;33m)\u001b[0m\u001b[1;33m\u001b[0m\u001b[1;33m\u001b[0m\u001b[0m\n\u001b[0m\u001b[0;32m     16\u001b[0m \u001b[1;33m\u001b[0m\u001b[0m\n\u001b[0;32m     17\u001b[0m         \u001b[0mcamera_frame\u001b[0m \u001b[1;33m=\u001b[0m \u001b[0mcv2\u001b[0m\u001b[1;33m.\u001b[0m\u001b[0mresize\u001b[0m\u001b[1;33m(\u001b[0m\u001b[0mc_frame\u001b[0m\u001b[1;33m,\u001b[0m\u001b[1;33m(\u001b[0m\u001b[1;36m600\u001b[0m\u001b[1;33m,\u001b[0m\u001b[1;36m400\u001b[0m\u001b[1;33m)\u001b[0m\u001b[1;33m)\u001b[0m\u001b[1;33m\u001b[0m\u001b[1;33m\u001b[0m\u001b[0m\n",
      "\u001b[1;31merror\u001b[0m: OpenCV(4.0.1) C:\\ci\\opencv-suite_1573470242804\\work\\modules\\imgproc\\src\\resize.cpp:3784: error: (-215:Assertion failed) !ssize.empty() in function 'cv::resize'\n"
     ]
    }
   ],
   "source": [
    "## in single window mutiple thing is open like webcam ,photo, video q\n",
    "# path = r\"\"\"D:\\unsplash cool pictures\"\"\"\n",
    "# image_name = \"daniel-korpai-8GDCzWrcE3M-unsplash.jpg\"\n",
    "\n",
    "# cap1 = cv2.VideoCapture(video_path_1)\n",
    "# cap2 = cv2.VideoCapture(video_path_2)\n",
    "# cap3 = cv2.VideoCapture(0)\n",
    "\n",
    "\n",
    "# while cap1.isOpened():\n",
    "#     ret1, frame1 = cap1.read()\n",
    "#     ret2, frame2 = cap2.read()\n",
    "#     ret3, c_frame = cap3.read()\n",
    "#     if ret1:\n",
    "#         frame1  = cv2.resize(frame1,(600,400))\n",
    "#         frame2  = cv2.resize(frame2,(600,400))\n",
    "        \n",
    "#         camera_frame = cv2.resize(c_frame,(600,400))\n",
    "        \n",
    "#         image = cv2.imread(path +'\\\\'+ image_name)\n",
    "#         image = cv2.resize(image,(600,400))\n",
    "\n",
    "#         frame_2 = np.hstack((frame1,frame2))\n",
    "#         frame_02 = np.hstack((camera_frame,image))\n",
    "#         frame_4 = np.vstack((frame_2,frame_02))\n",
    "#         cv2.imshow(\"Video Player\",frame_4)\n",
    "        \n",
    "#         if cv2.waitKey(25) & 0xff ==ord('q'):\n",
    "#             break\n",
    "#     else:\n",
    "#         break\n",
    "# cap.release()\n",
    "# cv2.destroyAllWindows()"
   ]
  },
  {
   "cell_type": "code",
   "execution_count": null,
   "id": "ba948f25",
   "metadata": {},
   "outputs": [],
   "source": []
  },
  {
   "cell_type": "code",
   "execution_count": null,
   "id": "3124f15d",
   "metadata": {},
   "outputs": [],
   "source": []
  },
  {
   "cell_type": "code",
   "execution_count": null,
   "id": "ae9465ea",
   "metadata": {},
   "outputs": [],
   "source": []
  }
 ],
 "metadata": {
  "kernelspec": {
   "display_name": "Python 3",
   "language": "python",
   "name": "python3"
  },
  "language_info": {
   "codemirror_mode": {
    "name": "ipython",
    "version": 3
   },
   "file_extension": ".py",
   "mimetype": "text/x-python",
   "name": "python",
   "nbconvert_exporter": "python",
   "pygments_lexer": "ipython3",
   "version": "3.8.8"
  }
 },
 "nbformat": 4,
 "nbformat_minor": 5
}
