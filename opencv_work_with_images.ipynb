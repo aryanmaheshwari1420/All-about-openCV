{
 "cells": [
  {
   "cell_type": "code",
   "execution_count": 1,
   "id": "4327373f",
   "metadata": {},
   "outputs": [
    {
     "data": {
      "text/plain": [
       "'3.8.8 (default, Apr 13 2021, 15:08:03) [MSC v.1916 64 bit (AMD64)]'"
      ]
     },
     "execution_count": 1,
     "metadata": {},
     "output_type": "execute_result"
    }
   ],
   "source": [
    "import sys\n",
    "sys.version\n"
   ]
  },
  {
   "cell_type": "code",
   "execution_count": 2,
   "id": "defa6353",
   "metadata": {},
   "outputs": [
    {
     "data": {
      "text/plain": [
       "'4.0.1'"
      ]
     },
     "execution_count": 2,
     "metadata": {},
     "output_type": "execute_result"
    }
   ],
   "source": [
    "import cv2\n",
    "cv2.__version__"
   ]
  },
  {
   "cell_type": "code",
   "execution_count": 3,
   "id": "10f64f06",
   "metadata": {},
   "outputs": [],
   "source": [
    "# how to show image from any folder using opencv\n",
    "# import cv2\n",
    "# path =r\"\"\"D:\\unsplash cool pictures\"\"\"\n",
    "# image_name = \"daniel-korpai-8GDCzWrcE3M-unsplash.jpg\"\n",
    "\n",
    "# img = cv2.imread(path + '\\\\' + image_name)\n",
    "# cv2.imshow('Image',img)\n",
    "# cv2.waitKey(0)\n",
    "# cv2.destroyAllWindows()"
   ]
  },
  {
   "cell_type": "code",
   "execution_count": 4,
   "id": "7dc34f1e",
   "metadata": {},
   "outputs": [],
   "source": [
    "# resize the image for clear view\n",
    "# img = cv2.imread(path + '\\\\' + image_name)\n",
    "# img = cv2.resize(img,(500,400))\n",
    "# cv2.imshow('Image',img)\n",
    "# cv2.waitKey(0)\n",
    "# cv2.destroyAllWindows()"
   ]
  },
  {
   "cell_type": "code",
   "execution_count": 5,
   "id": "cca16424",
   "metadata": {},
   "outputs": [],
   "source": [
    "## how to view all the images in a particular folder one by one\n",
    "import cv2\n",
    "import os\n",
    "\n",
    "img_names = ('ak-pics-fHeTF3A1H2w-unsplash.jpg',\n",
    " 'daniel-korpai-8GDCzWrcE3M-unsplash.jpg',\n",
    " 'jairo-alzate-gvDJIt8j-Sc-unsplash.jpg',\n",
    " 'mohnish-landge-BjEKmyBGl8g-unsplash.jpg',\n",
    " 'mohnish-landge-q1EYz9ktPH8-unsplash.jpg',\n",
    " 'nikita-kachanovsky-OVbeSXRk_9E-unsplash.jpg',\n",
    " 'sandip-karangiya-164vZDZ4MmM-unsplash.jpg',\n",
    " 'tarn-nguyen-XlEafYGDvV0-unsplash.jpg',\n",
    " 'vivek-sharma-CfkSS7rYXnA-unsplash.jpg',\n",
    " 'vivek-sharma-mT3yDBiM2hQ-unsplash.jpg')\n",
    "\n",
    "path =r\"\"\"D:\\unsplash cool pictures\"\"\"\n",
    "\n",
    "# for img_name in img_names:\n",
    "#     img_path_full = path + '\\\\' + img_name\n",
    "#     img = cv2.imread(img_path_full)\n",
    "#     img = cv2.resize(img,(1280,750))\n",
    "#     cv2.imshow('image',img)\n",
    "#     cv2.waitKey(1)# it means it will show the image for 1 second and then other image\n",
    "#                   # if it is 0 then u have to enter any key for changing the pictures\n",
    "    \n",
    "# cv2.destroyAllWindows()    "
   ]
  },
  {
   "cell_type": "code",
   "execution_count": 6,
   "id": "98f28030",
   "metadata": {},
   "outputs": [],
   "source": [
    "# how to print single photo in multiple view in single window\n",
    "import numpy as np\n",
    "\n",
    "for img_name in img_names:\n",
    "    img_path_full = path+'//'+img_name\n",
    "    img = cv2.imread(img_path_full)\n",
    "    img = cv2.resize(img,(250,250))\n",
    "    img_2 = np.hstack((img,img))\n",
    "    img_4 = np.vstack((img_2,img_2))\n",
    "    cv2.imshow('4 image',img_4)\n",
    "    cv2.waitKey(1)\n",
    "    \n",
    "cv2.destroyAllWindows()  \n"
   ]
  },
  {
   "cell_type": "code",
   "execution_count": null,
   "id": "ba178cad",
   "metadata": {},
   "outputs": [],
   "source": []
  },
  {
   "cell_type": "code",
   "execution_count": null,
   "id": "dcf7273e",
   "metadata": {},
   "outputs": [],
   "source": []
  },
  {
   "cell_type": "code",
   "execution_count": null,
   "id": "2389a072",
   "metadata": {},
   "outputs": [],
   "source": []
  },
  {
   "cell_type": "code",
   "execution_count": null,
   "id": "b72235fa",
   "metadata": {},
   "outputs": [],
   "source": []
  },
  {
   "cell_type": "code",
   "execution_count": null,
   "id": "945fb487",
   "metadata": {},
   "outputs": [],
   "source": []
  },
  {
   "cell_type": "code",
   "execution_count": null,
   "id": "51ff3b1a",
   "metadata": {},
   "outputs": [],
   "source": []
  },
  {
   "cell_type": "code",
   "execution_count": null,
   "id": "277f22be",
   "metadata": {},
   "outputs": [],
   "source": []
  },
  {
   "cell_type": "code",
   "execution_count": null,
   "id": "0484153b",
   "metadata": {},
   "outputs": [],
   "source": []
  },
  {
   "cell_type": "code",
   "execution_count": null,
   "id": "a137905d",
   "metadata": {},
   "outputs": [],
   "source": []
  },
  {
   "cell_type": "code",
   "execution_count": null,
   "id": "953ec119",
   "metadata": {},
   "outputs": [],
   "source": []
  },
  {
   "cell_type": "code",
   "execution_count": null,
   "id": "145982a4",
   "metadata": {},
   "outputs": [],
   "source": []
  }
 ],
 "metadata": {
  "kernelspec": {
   "display_name": "Python 3",
   "language": "python",
   "name": "python3"
  },
  "language_info": {
   "codemirror_mode": {
    "name": "ipython",
    "version": 3
   },
   "file_extension": ".py",
   "mimetype": "text/x-python",
   "name": "python",
   "nbconvert_exporter": "python",
   "pygments_lexer": "ipython3",
   "version": "3.8.8"
  }
 },
 "nbformat": 4,
 "nbformat_minor": 5
}
